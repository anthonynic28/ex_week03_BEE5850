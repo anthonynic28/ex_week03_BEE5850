{
  "cells": [
    {
      "cell_type": "markdown",
      "metadata": {},
      "source": [
        "# Exercise Set 03: Spurious Correlations\n",
        "\n",
        "BEE 4850/5850, Fall 2024\n",
        "\n",
        "**Name**:\n",
        "\n",
        "**ID**:\n",
        "\n",
        "> **Due Date**\n",
        ">\n",
        "> Friday, 2/9/24, 9:00pm\n",
        "\n",
        "## Overview"
      ],
      "id": "e12cc6b1-a7cf-44b3-ba07-8fcc255180c8"
    },
    {
      "cell_type": "markdown",
      "metadata": {},
      "source": [
        "### Instructions\n",
        "\n",
        "The goal of this exercise is for you to find datasets and reason about\n",
        "the relationships (or lack thereof!) between variables."
      ],
      "id": "db463e37-34f8-442d-ac48-668e2b083437"
    },
    {
      "cell_type": "markdown",
      "metadata": {},
      "source": [
        "### Load Environment\n",
        "\n",
        "The following code loads the environment and makes sure all needed\n",
        "packages are installed. This should be at the start of most Julia\n",
        "scripts."
      ],
      "id": "bb52df33-c4cb-47c3-a9c8-1c6bf5915454"
    },
    {
      "cell_type": "code",
      "execution_count": 1,
      "metadata": {},
      "outputs": [],
      "source": [
        "import Pkg\n",
        "Pkg.activate(@__DIR__)\n",
        "Pkg.instantiate()"
      ],
      "id": "110bf386"
    },
    {
      "cell_type": "markdown",
      "metadata": {},
      "source": [
        "The following packages are included in the environment (to help you find\n",
        "other similar packages in other languages). The code below loads these\n",
        "packages for use in the subsequent notebook (the desired functionality\n",
        "for each package is commented next to the package)."
      ],
      "id": "71c585a0-59d1-42fe-a546-b85d3a028ba5"
    },
    {
      "cell_type": "code",
      "execution_count": 2,
      "metadata": {},
      "outputs": [],
      "source": [
        "using DataFrames # tabular data structure\n",
        "using CSVFiles # reads/writes .csv files\n",
        "using Plots # plotting library\n",
        "using StatsBase # statistical quantities like mean, median, etc\n",
        "using StatsPlots # some additional statistical plotting tools"
      ],
      "id": "db4baf47"
    },
    {
      "cell_type": "markdown",
      "metadata": {},
      "source": [
        "## Problem\n",
        "\n",
        "Find a single or multiple datasets (don’t just pull from [Spurious\n",
        "Correlations!](https://www.tylervigen.com/spurious-correlations)!) where\n",
        "two or more variables appear to be correlated, but this correlation is\n",
        "likely spurious. Plot the relevant variable(s) and show they are\n",
        "correlated through any needed quantiative and/or qualitative means.\n",
        "Explain why you think the correlation is spurious."
      ],
      "id": "1bf3a7e6-bcac-4b8a-8bc7-3846f5f930b6"
    },
    {
      "cell_type": "markdown",
      "metadata": {},
      "source": [
        "## References"
      ],
      "id": "14970c29-7fb4-4f91-9e3f-b84d73e98fce"
    }
  ],
  "nbformat": 4,
  "nbformat_minor": 5,
  "metadata": {
    "kernelspec": {
      "name": "julia-1.9",
      "display_name": "Julia 1.9.4",
      "language": "julia"
    },
    "language_info": {
      "name": "julia",
      "file_extension": ".jl",
      "mimetype": "application/julia",
      "version": "1.9.4"
    }
  }
}